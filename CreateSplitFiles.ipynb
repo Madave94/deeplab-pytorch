{
 "cells": [
  {
   "cell_type": "markdown",
   "metadata": {},
   "source": [
    "## Part 1: create txt file with train and val id's of data"
   ]
  },
  {
   "cell_type": "code",
   "execution_count": 1,
   "metadata": {},
   "outputs": [],
   "source": [
    "import os.path as osp\n",
    "import os\n",
    "import random as rand\n",
    "import cv2"
   ]
  },
  {
   "cell_type": "code",
   "execution_count": 2,
   "metadata": {},
   "outputs": [],
   "source": [
    "root_path = \"S2DSdevkit\"\n",
    "part_path = \"part2\"\n",
    "images_path = \"images\"\n",
    "labels_path = \"labels\"\n",
    "\n",
    "folder_segmentation = \"Segmentation\""
   ]
  },
  {
   "cell_type": "code",
   "execution_count": 3,
   "metadata": {},
   "outputs": [],
   "source": [
    "images_dir_path = osp.join(root_path, part_path, images_path)"
   ]
  },
  {
   "cell_type": "code",
   "execution_count": 4,
   "metadata": {},
   "outputs": [
    {
     "name": "stdout",
     "output_type": "stream",
     "text": [
      "01 (231)\n",
      "01 (209)\n",
      "01 (496)\n",
      "01 (419)\n",
      "01 (391)\n"
     ]
    }
   ],
   "source": [
    "# create list of files in the folder\n",
    "list_paths = os.listdir(images_dir_path)\n",
    "# get only images ending on .jpg\n",
    "list_images_with_postfix = list((filter(lambda k: '.jpg' in k, list_paths)))\n",
    "# remove the file ending .jpg\n",
    "list_images_without_postfix = list((map(lambda k: osp.splitext(k)[0], list_paths)))\n",
    "for ele in range(5):\n",
    "    print(list_images_without_postfix[ele])"
   ]
  },
  {
   "cell_type": "code",
   "execution_count": 5,
   "metadata": {},
   "outputs": [
    {
     "name": "stdout",
     "output_type": "stream",
     "text": [
      "01 (168)\n",
      "IMG_4949\n",
      "IMG_0809\n",
      "01 (142)\n",
      "01 (407)\n",
      "\n",
      "Total number of elements: 357\n"
     ]
    }
   ],
   "source": [
    "# shuffel list\n",
    "rand.shuffle(list_images_without_postfix)\n",
    "for ele in range(5):\n",
    "    print(list_images_without_postfix[ele])\n",
    "print(\"\\nTotal number of elements: \" + str(len(list_images_without_postfix)) )"
   ]
  },
  {
   "cell_type": "code",
   "execution_count": 6,
   "metadata": {},
   "outputs": [],
   "source": [
    "train_txt_path = osp.join(root_path, part_path, folder_segmentation, \"train.txt\")\n",
    "with open(train_txt_path,'w') as f:\n",
    "    f.write('\\n'.join(list_images_without_postfix[:200]))"
   ]
  },
  {
   "cell_type": "code",
   "execution_count": 7,
   "metadata": {},
   "outputs": [],
   "source": [
    "val_txt_path = osp.join(root_path, part_path, folder_segmentation, \"val.txt\")\n",
    "with open(val_txt_path,'w') as f:\n",
    "    f.write('\\n'.join(list_images_without_postfix[200:]))"
   ]
  },
  {
   "cell_type": "markdown",
   "metadata": {},
   "source": [
    "## Part 2: load data using yaml file and visulize some data pairs."
   ]
  },
  {
   "cell_type": "code",
   "execution_count": null,
   "metadata": {},
   "outputs": [],
   "source": [
    "from libs.datasets import get_dataset\n",
    "from addict import Dict\n",
    "import yaml\n",
    "import torch\n",
    "import numpy as np"
   ]
  },
  {
   "cell_type": "code",
   "execution_count": null,
   "metadata": {},
   "outputs": [],
   "source": [
    "# Load data using yaml and show some\n",
    "config_path = 'configs/S2DS.yaml'\n",
    "with open(config_path, 'r') as file:\n",
    "    CONFIG = Dict(yaml.load(file, Loader=yaml.FullLoader))\n",
    "\n",
    "for key in CONFIG:\n",
    "    print(key + \": \" + str(CONFIG[key]))\n",
    "    print(\"--------\")"
   ]
  },
  {
   "cell_type": "code",
   "execution_count": null,
   "metadata": {},
   "outputs": [],
   "source": [
    "# Dataset\n",
    "dataset = get_dataset(CONFIG.DATASET.NAME)(\n",
    "    root=CONFIG.DATASET.ROOT,\n",
    "    part=CONFIG.DATASET.PART,\n",
    "    split=CONFIG.DATASET.SPLIT.TRAIN,\n",
    "    ignore_label=CONFIG.DATASET.IGNORE_LABEL,\n",
    "    mean_bgr=(CONFIG.IMAGE.MEAN.B, CONFIG.IMAGE.MEAN.G, CONFIG.IMAGE.MEAN.R),\n",
    "    augment=False,\n",
    "    base_size=CONFIG.IMAGE.SIZE.BASE,\n",
    "    crop_size=CONFIG.IMAGE.SIZE.TRAIN,\n",
    "    scales=CONFIG.DATASET.SCALES,\n",
    "    flip=True,\n",
    ")\n",
    "print(dataset)"
   ]
  },
  {
   "cell_type": "code",
   "execution_count": null,
   "metadata": {},
   "outputs": [],
   "source": [
    "# DataLoader\n",
    "loader = torch.utils.data.DataLoader(\n",
    "    dataset=dataset,\n",
    "    batch_size=1,#CONFIG.SOLVER.BATCH_SIZE.TRAIN,\n",
    "    num_workers=CONFIG.DATALOADER.NUM_WORKERS,\n",
    "    shuffle=True,\n",
    ")\n",
    "loader_iter = iter(loader)"
   ]
  },
  {
   "cell_type": "code",
   "execution_count": null,
   "metadata": {},
   "outputs": [],
   "source": [
    "# Load data\n",
    "image_ids, images, labels = next(loader_iter)"
   ]
  },
  {
   "cell_type": "code",
   "execution_count": null,
   "metadata": {},
   "outputs": [],
   "source": [
    "print(\"ID: \" + str(image_ids))\n",
    "print(\"Image shape: \" + str(images.shape))\n",
    "print(\"Label shape: \" + str(labels.shape))"
   ]
  },
  {
   "cell_type": "code",
   "execution_count": null,
   "metadata": {},
   "outputs": [],
   "source": [
    "first_img = images[0].permute(1,2,0)\n",
    "first_lbl = labels[0]\n",
    "# choose first element of the batch\n",
    "print(\"ID: \" + str(image_ids))\n",
    "print(\"Image shape: \" + str(first_img.shape))\n",
    "print(\"Label shape: \" + str(first_lbl.shape))"
   ]
  },
  {
   "cell_type": "code",
   "execution_count": null,
   "metadata": {},
   "outputs": [],
   "source": [
    "dataset.show_pair(image_ids, images, labels)"
   ]
  },
  {
   "cell_type": "code",
   "execution_count": null,
   "metadata": {},
   "outputs": [],
   "source": [
    "testlst = range(1,10)"
   ]
  },
  {
   "cell_type": "code",
   "execution_count": null,
   "metadata": {},
   "outputs": [],
   "source": []
  }
 ],
 "metadata": {
  "kernelspec": {
   "display_name": "deeplab-pytorch",
   "language": "python",
   "name": "deeplab-pytorch"
  },
  "language_info": {
   "codemirror_mode": {
    "name": "ipython",
    "version": 3
   },
   "file_extension": ".py",
   "mimetype": "text/x-python",
   "name": "python",
   "nbconvert_exporter": "python",
   "pygments_lexer": "ipython3",
   "version": "3.6.10"
  }
 },
 "nbformat": 4,
 "nbformat_minor": 2
}
