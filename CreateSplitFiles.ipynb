{
 "cells": [
  {
   "cell_type": "markdown",
   "metadata": {},
   "source": [
    "## Part 1: create txt file with train and val id's of data"
   ]
  },
  {
   "cell_type": "code",
   "execution_count": 1,
   "metadata": {},
   "outputs": [],
   "source": [
    "import os.path as osp\n",
    "import os\n",
    "import random as rand"
   ]
  },
  {
   "cell_type": "code",
   "execution_count": 2,
   "metadata": {},
   "outputs": [],
   "source": [
    "root_path = \"S2DSdevkit\"\n",
    "part_path = \"part2\"\n",
    "images_path = \"images\"\n",
    "labels_path = \"labels\"\n",
    "\n",
    "folder_segmentation = \"Segmentation\""
   ]
  },
  {
   "cell_type": "code",
   "execution_count": 3,
   "metadata": {},
   "outputs": [],
   "source": [
    "images_dir_path = osp.join(root_path, part_path, images_path)"
   ]
  },
  {
   "cell_type": "code",
   "execution_count": 4,
   "metadata": {},
   "outputs": [
    {
     "name": "stdout",
     "output_type": "stream",
     "text": [
      "01 (231)\n",
      "01 (209)\n",
      "01 (496)\n",
      "01 (419)\n",
      "01 (391)\n"
     ]
    }
   ],
   "source": [
    "# create list of files in the folder\n",
    "list_paths = os.listdir(images_dir_path)\n",
    "# get only images ending on .jpg\n",
    "list_images_with_postfix = list((filter(lambda k: '.jpg' in k, list_paths)))\n",
    "# remove the file ending .jpg\n",
    "list_images_without_postfix = list((map(lambda k: osp.splitext(k)[0], list_paths)))\n",
    "for ele in range(5):\n",
    "    print(list_images_without_postfix[ele])"
   ]
  },
  {
   "cell_type": "code",
   "execution_count": 5,
   "metadata": {},
   "outputs": [
    {
     "name": "stdout",
     "output_type": "stream",
     "text": [
      "01 (242)\n",
      "01 (496)\n",
      "01 (412)\n",
      "01 (407)\n",
      "01 (316)\n",
      "\n",
      "Total number of elements: 357\n"
     ]
    }
   ],
   "source": [
    "# shuffel list\n",
    "rand.shuffle(list_images_without_postfix)\n",
    "for ele in range(5):\n",
    "    print(list_images_without_postfix[ele])\n",
    "print(\"\\nTotal number of elements: \" + str(len(list_images_without_postfix)) )"
   ]
  },
  {
   "cell_type": "code",
   "execution_count": 6,
   "metadata": {},
   "outputs": [],
   "source": [
    "train_txt_path = osp.join(root_path, part_path, folder_segmentation, \"train.txt\")\n",
    "with open(train_txt_path,'w') as f:\n",
    "    f.write('\\n'.join(list_images_without_postfix[:100]))"
   ]
  },
  {
   "cell_type": "code",
   "execution_count": 7,
   "metadata": {},
   "outputs": [],
   "source": [
    "val_txt_path = osp.join(root_path, part_path, folder_segmentation, \"val.txt\")\n",
    "with open(val_txt_path,'w') as f:\n",
    "    f.write('\\n'.join(list_images_without_postfix[100:]))"
   ]
  },
  {
   "cell_type": "markdown",
   "metadata": {},
   "source": [
    "## Part 2: load data using yaml file and visulize some data pairs."
   ]
  },
  {
   "cell_type": "code",
   "execution_count": 8,
   "metadata": {},
   "outputs": [],
   "source": [
    "from libs.datasets import get_dataset\n",
    "from addict import Dict\n",
    "import yaml\n",
    "import torch\n",
    "import numpy as np"
   ]
  },
  {
   "cell_type": "code",
   "execution_count": 9,
   "metadata": {},
   "outputs": [
    {
     "name": "stdout",
     "output_type": "stream",
     "text": [
      "EXP: {'ID': 'S2DS', 'OUTPUT_DIR': 'data'}\n",
      "--------\n",
      "DATASET: {'NAME': 'S2DS', 'ROOT': 'S2DSdevkit/', 'PART': 2, 'LABELS': './data/datasets/S2DS/labels.txt', 'N_CLASSES': 7, 'IGNORE_LABEL': 255, 'SCALES': [0.5, 0.75, 1.0, 1.25, 1.5], 'SPLIT': {'TRAIN': 'train', 'VAL': 'val', 'TEST': 'test'}}\n",
      "--------\n",
      "DATALOADER: {'NUM_WORKERS': 0}\n",
      "--------\n",
      "IMAGE: {'MEAN': {'R': 122.675, 'G': 116.669, 'B': 104.008}, 'SIZE': {'BASE': None, 'TRAIN': 321, 'TEST': 513}}\n",
      "--------\n",
      "MODEL: {'NAME': 'DeepLabV2_ResNet101_MSC', 'N_BLOCKS': [3, 4, 23, 3], 'ATROUS_RATES': [6, 12, 18, 24], 'INIT_MODEL': 'data/models/coco/deeplabv1_resnet101/caffemodel/deeplabv1_resnet101-coco.pth'}\n",
      "--------\n",
      "SOLVER: {'BATCH_SIZE': {'TRAIN': 5, 'TEST': 1}, 'ITER_MAX': 20000, 'ITER_SIZE': 2, 'ITER_SAVE': 5000, 'ITER_TB': 100, 'LR_DECAY': 10, 'LR': 0.00025, 'MOMENTUM': 0.9, 'OPTIMIZER': 'sgd', 'POLY_POWER': 0.9, 'WEIGHT_DECAY': 0.0005, 'AVERAGE_LOSS': 20}\n",
      "--------\n",
      "CRF: {'ITER_MAX': 10, 'POS_W': 3, 'POS_XY_STD': 1, 'BI_W': 4, 'BI_XY_STD': 67, 'BI_RGB_STD': 3}\n",
      "--------\n"
     ]
    }
   ],
   "source": [
    "# Load data using yaml and show some\n",
    "config_path = 'configs/S2DS.yaml'\n",
    "with open(config_path, 'r') as file:\n",
    "    CONFIG = Dict(yaml.load(file, Loader=yaml.FullLoader))\n",
    "\n",
    "for key in CONFIG:\n",
    "    print(key + \": \" + str(CONFIG[key]))\n",
    "    print(\"--------\")"
   ]
  },
  {
   "cell_type": "code",
   "execution_count": 10,
   "metadata": {},
   "outputs": [
    {
     "name": "stdout",
     "output_type": "stream",
     "text": [
      "Dataset: S2DS\n",
      "    # data: 100\n",
      "    Split: train\n",
      "    Root: S2DSdevkit/part2\n"
     ]
    }
   ],
   "source": [
    "# Dataset\n",
    "dataset = get_dataset(CONFIG.DATASET.NAME)(\n",
    "    root=CONFIG.DATASET.ROOT,\n",
    "    part=CONFIG.DATASET.PART,\n",
    "    split=CONFIG.DATASET.SPLIT.TRAIN,\n",
    "    ignore_label=CONFIG.DATASET.IGNORE_LABEL,\n",
    "    mean_bgr=(CONFIG.IMAGE.MEAN.B, CONFIG.IMAGE.MEAN.G, CONFIG.IMAGE.MEAN.R),\n",
    "    augment=False,\n",
    "    base_size=CONFIG.IMAGE.SIZE.BASE,\n",
    "    crop_size=CONFIG.IMAGE.SIZE.TRAIN,\n",
    "    scales=CONFIG.DATASET.SCALES,\n",
    "    flip=True,\n",
    ")\n",
    "print(dataset)"
   ]
  },
  {
   "cell_type": "code",
   "execution_count": 11,
   "metadata": {},
   "outputs": [],
   "source": [
    "# DataLoader\n",
    "loader = torch.utils.data.DataLoader(\n",
    "    dataset=dataset,\n",
    "    batch_size=1,#CONFIG.SOLVER.BATCH_SIZE.TRAIN,\n",
    "    num_workers=CONFIG.DATALOADER.NUM_WORKERS,\n",
    "    shuffle=True,\n",
    ")\n",
    "loader_iter = iter(loader)"
   ]
  },
  {
   "cell_type": "code",
   "execution_count": 12,
   "metadata": {},
   "outputs": [
    {
     "name": "stdout",
     "output_type": "stream",
     "text": [
      "01 (219)\n",
      "S2DSdevkit/part2/images/01 (219).jpg\n",
      "S2DSdevkit/part2/labels/01 (219).png\n"
     ]
    }
   ],
   "source": [
    "# Load data\n",
    "image_ids, images, labels = next(loader_iter)"
   ]
  },
  {
   "cell_type": "code",
   "execution_count": 13,
   "metadata": {},
   "outputs": [
    {
     "name": "stdout",
     "output_type": "stream",
     "text": [
      "ID: ('01 (219)',)\n",
      "Image shape: torch.Size([1, 3, 1944, 2592])\n",
      "Label shape: torch.Size([1, 1944, 2592, 4])\n"
     ]
    }
   ],
   "source": [
    "print(\"ID: \" + str(image_ids))\n",
    "print(\"Image shape: \" + str(images.shape))\n",
    "print(\"Label shape: \" + str(labels.shape))"
   ]
  },
  {
   "cell_type": "code",
   "execution_count": 14,
   "metadata": {},
   "outputs": [
    {
     "name": "stdout",
     "output_type": "stream",
     "text": [
      "ID: ('01 (219)',)\n",
      "Image shape: torch.Size([1944, 2592, 3])\n",
      "Label shape: torch.Size([1944, 2592, 4])\n"
     ]
    }
   ],
   "source": [
    "first_img = images[0].permute(1,2,0)\n",
    "first_lbl = labels[0]\n",
    "# choose first element of the batch\n",
    "print(\"ID: \" + str(image_ids))\n",
    "print(\"Image shape: \" + str(first_img.shape))\n",
    "print(\"Label shape: \" + str(first_lbl.shape))"
   ]
  },
  {
   "cell_type": "code",
   "execution_count": 15,
   "metadata": {},
   "outputs": [
    {
     "name": "stderr",
     "output_type": "stream",
     "text": [
      "Clipping input data to the valid range for imshow with RGB data ([0..1] for floats or [0..255] for integers).\n",
      "Clipping input data to the valid range for imshow with RGB data ([0..1] for floats or [0..255] for integers).\n"
     ]
    },
    {
     "data": {
      "image/png": "[encoded data removed]",
      "text/plain": [
       "<Figure size 432x288 with 3 Axes>"
      ]
     },
     "metadata": {
      "needs_background": "light"
     },
     "output_type": "display_data"
    }
   ],
   "source": [
    "dataset.show_pair(image_ids, images, labels)"
   ]
  },
  {
   "cell_type": "code",
   "execution_count": 16,
   "metadata": {},
   "outputs": [],
   "source": [
    "testlst = range(1,10)"
   ]
  },
  {
   "cell_type": "code",
   "execution_count": null,
   "metadata": {},
   "outputs": [],
   "source": []
  }
 ],
 "metadata": {
  "kernelspec": {
   "display_name": "deeplab-pytorch",
   "language": "python",
   "name": "deeplab-pytorch"
  },
  "language_info": {
   "codemirror_mode": {
    "name": "ipython",
    "version": 3
   },
   "file_extension": ".py",
   "mimetype": "text/x-python",
   "name": "python",
   "nbconvert_exporter": "python",
   "pygments_lexer": "ipython3",
   "version": "3.6.10"
  }
 },
 "nbformat": 4,
 "nbformat_minor": 2
}
