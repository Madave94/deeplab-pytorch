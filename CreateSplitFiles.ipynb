{
 "cells": [
  {
   "cell_type": "code",
   "execution_count": 1,
   "metadata": {},
   "outputs": [],
   "source": [
    "import os.path as osp\n",
    "import os\n",
    "import random as rand"
   ]
  },
  {
   "cell_type": "code",
   "execution_count": 2,
   "metadata": {},
   "outputs": [],
   "source": [
    "root_path = \"S2DSdevkit\"\n",
    "part_path = \"part1\"\n",
    "images_path = \"images\"\n",
    "labels_path = \"labels\"\n",
    "\n",
    "folder_segmentation = \"Segmentation\""
   ]
  },
  {
   "cell_type": "code",
   "execution_count": 3,
   "metadata": {},
   "outputs": [],
   "source": [
    "images_dir_path = osp.join(root_path, part_path, images_path)"
   ]
  },
  {
   "cell_type": "code",
   "execution_count": 4,
   "metadata": {},
   "outputs": [
    {
     "name": "stdout",
     "output_type": "stream",
     "text": [
      "5038_578__0_PRUFUNG_2014E_SCHADEN_2012H2 WASSERFÜHRENDER RISS\n",
      "5038_551__2_PRUFUNG_2011H_SCHADEN_2011_H_QUERRISS AN GESIMSSEITENFLÄCHE\n",
      "4330_743__0_prufung_2014E_SCHADEN_2014_E_WIDERLAGER HINTEN LINKS_RISS UND ABPLATZUNGEN\n",
      "5038_571_A__prufung_2006H2_SCHADEN_RISS IN DER RÜCKSEITE DES STIELS\n",
      "4428_803__0_prufung_2009E_SCHADEN_RISS FLÜGEL HINTEN LINKS\n"
     ]
    }
   ],
   "source": [
    "# create list of files in the folder\n",
    "list_paths = os.listdir(images_dir_path)\n",
    "# get only images ending on .jpg\n",
    "list_images_with_postfix = list((filter(lambda k: '.jpg' in k, list_paths)))\n",
    "# remove the file ending .jpg\n",
    "list_images_without_postfix = list((map(lambda k: osp.splitext(k)[0], list_paths)))\n",
    "for ele in range(5):\n",
    "    print(list_images_without_postfix[ele])"
   ]
  },
  {
   "cell_type": "code",
   "execution_count": 5,
   "metadata": {},
   "outputs": [
    {
     "name": "stdout",
     "output_type": "stream",
     "text": [
      "4428_808__0_prufung_2012H_SCHADEN_2012_H_UNTERBAU_RISSE MIT AUSSINTERUNGEN\n",
      "5038_552__1_PRUFUNG_2011H_SCHADEN_2011_H_LAGERSOCKEL GERISSEN\n",
      "4429_781__0_prufung_2012E_SCHADEN_2012_EP_RISS ÜBER ROHRAUSLAUF\n",
      "4430_500__0_PRUFUNG_2014E_SCHADEN_2014_E_KAPPENGESIMS_GERISSEN MIT AUSSINTERUNGEN\n",
      "4429_783__0_prufung_2012E_SCHADEN_NETZRISSE MIT AUSSINTERUNGEN AN DER GESIMSSTIRNSEITE\n",
      "\n",
      "Total number of elements: 153\n"
     ]
    }
   ],
   "source": [
    "# shuffel list\n",
    "rand.shuffle(list_images_without_postfix)\n",
    "for ele in range(5):\n",
    "    print(list_images_without_postfix[ele])\n",
    "print(\"\\nTotal number of elements: \" + str(len(list_images_without_postfix)) )"
   ]
  },
  {
   "cell_type": "code",
   "execution_count": 6,
   "metadata": {},
   "outputs": [],
   "source": [
    "train_txt_path = osp.join(root_path, part_path, folder_segmentation, \"train.txt\")\n",
    "with open(train_txt_path,'w') as f:\n",
    "    f.write('\\n'.join(list_images_without_postfix[:100]))"
   ]
  },
  {
   "cell_type": "code",
   "execution_count": 7,
   "metadata": {},
   "outputs": [],
   "source": [
    "val_txt_path = osp.join(root_path, part_path, folder_segmentation, \"val.txt\")\n",
    "with open(val_txt_path,'w') as f:\n",
    "    f.write('\\n'.join(list_images_without_postfix[100:]))"
   ]
  },
  {
   "cell_type": "code",
   "execution_count": 9,
   "metadata": {},
   "outputs": [],
   "source": [
    "# read files\n",
    "if \"train\" in [\"train\", \"trainval\", \"val\", \"test\"]:\n",
    "    file_list = osp.join(\n",
    "        root_path, part_path, folder_segmentation, \"train\" + \".txt\"\n",
    "    )\n",
    "    file_list = tuple(open(file_list, \"r\"))\n",
    "    file_list = [id_.rstrip() for id_ in file_list]\n",
    "    files = file_list\n",
    "else:\n",
    "    raise ValueError(\"Invalid split name: {}\".format(self.split))"
   ]
  },
  {
   "cell_type": "code",
   "execution_count": null,
   "metadata": {},
   "outputs": [],
   "source": []
  }
 ],
 "metadata": {
  "kernelspec": {
   "display_name": "deeplab-pytorch",
   "language": "python",
   "name": "deeplab-pytorch"
  },
  "language_info": {
   "codemirror_mode": {
    "name": "ipython",
    "version": 3
   },
   "file_extension": ".py",
   "mimetype": "text/x-python",
   "name": "python",
   "nbconvert_exporter": "python",
   "pygments_lexer": "ipython3",
   "version": "3.6.10"
  }
 },
 "nbformat": 4,
 "nbformat_minor": 2
}
