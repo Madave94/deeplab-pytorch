{
 "cells": [
  {
   "cell_type": "markdown",
   "metadata": {},
   "source": [
    "## 1. General functions"
   ]
  },
  {
   "cell_type": "code",
   "execution_count": 1,
   "metadata": {},
   "outputs": [],
   "source": [
    "import os.path as osp\n",
    "import os\n",
    "import errno\n",
    "import cv2\n",
    "from matplotlib import pyplot as plt\n",
    "import numpy as np\n",
    "import json\n",
    "from collections import namedtuple"
   ]
  },
  {
   "cell_type": "code",
   "execution_count": 2,
   "metadata": {},
   "outputs": [],
   "source": [
    "def createValidPathnames(root_path, part_path, images_path):\n",
    "    \"\"\"\n",
    "        returns a tuple containing the three needed pathnames\n",
    "        contains a check if the file is there\n",
    "    \"\"\"\n",
    "    labelsGrayscale_path = osp.join(root_path, part_path, \"labelsGrayscale\")\n",
    "    if os.path.isdir(labelsGrayscale_path):\n",
    "        print(\"Found grayscale label folder.\")\n",
    "    else:\n",
    "        raise FileNotFoundError(errno.ENOENT, os.strerror(errno.ENOENT), labelsGrayscale_path)\n",
    "\n",
    "    # labels RGB path\n",
    "    labelsRGB_path = osp.join(root_path, part_path, \"labelsRGB\")\n",
    "    if os.path.isdir(labelsRGB_path):\n",
    "        print(\"Found RGB label folder.\")\n",
    "    else:\n",
    "        raise FileNotFoundError(errno.ENOENT, os.strerror(errno.ENOENT), labelsRGB_path)\n",
    "\n",
    "    # color mapping path\n",
    "    colorMapping_path = osp.join(root_path, part_path, \"ColorMapping.json\" )\n",
    "    if os.path.isdir(labelsGrayscale_path):\n",
    "        print(\"Found color mapping file.\")\n",
    "    else:\n",
    "        raise FileNotFoundError(errno.ENOENT, os.strerror(errno.ENOENT), colorMapping_path)\n",
    "    return labelsGrayscale_path, labelsRGB_path, colorMapping_path"
   ]
  },
  {
   "cell_type": "code",
   "execution_count": 3,
   "metadata": {},
   "outputs": [],
   "source": [
    "def createColorMapping(json_path):\n",
    "    \"\"\"\n",
    "        reads a json file and creates a list of object containing the transformation details\n",
    "        eg.\n",
    "        colorMapping = [ColorMapping(Class='Spalling', RGB=[255, 0, 0], Grayscale=25),\n",
    "         ColorMapping(Class='Rust Stain', RGB=[165, 42, 42], Grayscale=120), ... ]\n",
    "         Access the element:\n",
    "         colorMapping[0].RGB -> [255,0,0]\n",
    "    \"\"\"\n",
    "    colorMapping = []\n",
    "    with open(colorMapping_path) as json_file:\n",
    "        json_file = json_file.read()\n",
    "        json_file = json_file.split(\";\")\n",
    "        for data in json_file:\n",
    "            colorMapping.append(json.loads(data, object_hook=lambda d: namedtuple('ColorMapping', d.keys())(*d.values())))\n",
    "    return colorMapping"
   ]
  },
  {
   "cell_type": "markdown",
   "metadata": {},
   "source": [
    "## 2. Transform RGB image to specific Grayscale mappings"
   ]
  },
  {
   "cell_type": "code",
   "execution_count": null,
   "metadata": {},
   "outputs": [],
   "source": [
    "# Create paths\n",
    "root_path = \"S2DSdevkit\"\n",
    "part_path = \"part2\"\n",
    "images_path = \"images\"\n",
    "\n",
    "labelsGrayscale_path, labelsRGB_path, colorMapping_path = createValidPathnames(root_path, part_path, images_path)"
   ]
  },
  {
   "cell_type": "code",
   "execution_count": 4,
   "metadata": {},
   "outputs": [
    {
     "ename": "NameError",
     "evalue": "name 'colorMapping_path' is not defined",
     "output_type": "error",
     "traceback": [
      "\u001b[0;31m--------------------------------------------------------------------------\u001b[0m",
      "\u001b[0;31mNameError\u001b[0m                                Traceback (most recent call last)",
      "\u001b[0;32m<ipython-input-4-b7695d6381b7>\u001b[0m in \u001b[0;36m<module>\u001b[0;34m\u001b[0m\n\u001b[1;32m      1\u001b[0m \u001b[0;31m# Create Color Mapping Part 2\u001b[0m\u001b[0;34m\u001b[0m\u001b[0;34m\u001b[0m\u001b[0;34m\u001b[0m\u001b[0m\n\u001b[0;32m----> 2\u001b[0;31m \u001b[0mcolorMapping\u001b[0m \u001b[0;34m=\u001b[0m \u001b[0mcreateColorMapping\u001b[0m\u001b[0;34m(\u001b[0m\u001b[0mcolorMapping_path\u001b[0m\u001b[0;34m)\u001b[0m\u001b[0;34m\u001b[0m\u001b[0;34m\u001b[0m\u001b[0m\n\u001b[0m\u001b[1;32m      3\u001b[0m \u001b[0mcolorMapping\u001b[0m\u001b[0;34m\u001b[0m\u001b[0;34m\u001b[0m\u001b[0m\n",
      "\u001b[0;31mNameError\u001b[0m: name 'colorMapping_path' is not defined"
     ]
    }
   ],
   "source": [
    "# Create Color Mapping Part 2\n",
    "colorMapping = createColorMapping(colorMapping_path)\n",
    "colorMapping"
   ]
  },
  {
   "cell_type": "code",
   "execution_count": null,
   "metadata": {},
   "outputs": [],
   "source": [
    "# create list of files in the folder\n",
    "list_paths = os.listdir(labelsRGB_path)\n",
    "# get only images ending on .jpg\n",
    "list_labels_rgb_with_postfix = list((filter(lambda k: '.png' in k, list_paths)))\n",
    "# remove the file ending .jpg\n",
    "list_labels_rgb_without_postfix = list((map(lambda k: osp.splitext(k)[0], list_labels_rgb_with_postfix)))\n",
    "# show first five elements\n",
    "list_labels_rgb_without_postfix[:5]"
   ]
  },
  {
   "cell_type": "code",
   "execution_count": null,
   "metadata": {},
   "outputs": [],
   "source": [
    "\"\"\"def RGBtoGray(RGBimg, colorMapping):\n",
    "    RGBimg = cv2.cvtColor(RGBimg, cv2.COLOR_BGR2RGB)\n",
    "    row = RGBimg.shape[0]\n",
    "    col = RGBimg.shape[1]\n",
    "    GRAYimg = np.zeros((row, col))\n",
    "    for x in range(0,row):\n",
    "        for y in range(0,col):\n",
    "            pixel = RGBimg[x,y,:]\n",
    "            for cm in colorMapping:\n",
    "                if np.array_equal(pixel, np.array(cm.RGB)):\n",
    "                    GRAYimg[x,y] = cm.Grayscale    \n",
    "    return GRAYimg    \"\"\""
   ]
  },
  {
   "cell_type": "code",
   "execution_count": null,
   "metadata": {},
   "outputs": [],
   "source": [
    "def map_RGB2grayscale(img, colors, vals, invalid_val=0):\n",
    "    img = cv2.cvtColor(img, cv2.COLOR_BGR2RGB)\n",
    "    s = 256**np.arange(3)\n",
    "    img1D = img.reshape(-1,img.shape[2]).dot(s)\n",
    "    colors1D = colors.reshape(-1,img.shape[2]).dot(s)\n",
    "    sidx = colors1D.argsort()\n",
    "    idx0 = np.searchsorted(colors1D, img1D, sorter=sidx)\n",
    "    idx0[idx0==len(sidx)] = 0\n",
    "    mapped_idx = sidx[idx0]\n",
    "    valid = colors1D[mapped_idx] == img1D\n",
    "    return np.where(valid, vals[mapped_idx], invalid_val).reshape(img.shape[:2])"
   ]
  },
  {
   "cell_type": "code",
   "execution_count": null,
   "metadata": {},
   "outputs": [],
   "source": [
    "colors = []\n",
    "vals = []\n",
    "for element in colorMapping:\n",
    "    colors.append(element.RGB)\n",
    "    vals.append(element.Grayscale)\n",
    "    \n",
    "colors = np.array(colors)\n",
    "vals = np.array(vals)"
   ]
  },
  {
   "cell_type": "code",
   "execution_count": null,
   "metadata": {},
   "outputs": [],
   "source": [
    "for name_img in list_labels_rgb_without_postfix:\n",
    "    print(\".\", end = '')\n",
    "    origin_label_path = osp.join(labelsRGB_path, name_img + \".png\")\n",
    "    target_label_path = osp.join(labelsGrayscale_path, name_img + \".png\")\n",
    "    image = cv2.imread(origin_label_path)\n",
    "    #gray = RGBtoGray(image, colorMapping)\n",
    "    gray = map_RGB2grayscale(image, colors, vals)\n",
    "    cv2.imwrite(target_label_path, gray)"
   ]
  },
  {
   "cell_type": "markdown",
   "metadata": {},
   "source": [
    "## 3. Transform Grayscale image to specific RGB mappings"
   ]
  },
  {
   "cell_type": "code",
   "execution_count": 5,
   "metadata": {},
   "outputs": [
    {
     "name": "stdout",
     "output_type": "stream",
     "text": [
      "Found grayscale label folder.\n",
      "Found RGB label folder.\n",
      "Found color mapping file.\n"
     ]
    }
   ],
   "source": [
    "# Create paths\n",
    "root_path = \"S2DSdevkit\"\n",
    "part_path = \"part1\"\n",
    "images_path = \"images\"\n",
    "\n",
    "labelsGrayscale_path, labelsRGB_path, colorMapping_path = createValidPathnames(root_path, part_path, images_path)"
   ]
  },
  {
   "cell_type": "code",
   "execution_count": 6,
   "metadata": {},
   "outputs": [
    {
     "data": {
      "text/plain": [
       "['4530_541__0_prufung_2008H_SCHADEN_RISS MIT AUSSINTERUNG AM WL 2',\n",
       " '5038_547__1_prufung_2005H1_SCHADEN_FEUCHTER RISS MIT  AUSBLÜHUNG',\n",
       " '4429_776__0_PRUFUNG_2005H_SCHADEN_BILD_5 - QUERRISS IN AUFLAGERBANK',\n",
       " '5038_550__2_PRUFUNG_2014E_SCHADEN_2011_H_LÄNGSRISS IN HINTERER KAMMERWAND',\n",
       " '5038_820__0_PRUFUNG_2006H_SCHADEN_BILD 4, QUERRISSE IM GESIMS']"
      ]
     },
     "execution_count": 6,
     "metadata": {},
     "output_type": "execute_result"
    }
   ],
   "source": [
    "# create list of files in the folder\n",
    "list_paths = os.listdir(labelsGrayscale_path)\n",
    "# get only images ending on .jpg\n",
    "list_labels_grayscale_with_postfix = list((filter(lambda k: '.png' in k, list_paths)))\n",
    "# remove the file ending .jpg\n",
    "list_labels_grayscale_without_postfix = list((map(lambda k: osp.splitext(k)[0], list_labels_grayscale_with_postfix)))\n",
    "# show first five elements\n",
    "list_labels_grayscale_without_postfix[:5]"
   ]
  },
  {
   "cell_type": "code",
   "execution_count": 8,
   "metadata": {},
   "outputs": [
    {
     "data": {
      "text/plain": [
       "[ColorMapping(Class='Spalling', RGB=[255, 0, 0], Grayscale=25),\n",
       " ColorMapping(Class='Rust Stain', RGB=[165, 42, 42], Grayscale=120),\n",
       " ColorMapping(Class='Discoloration', RGB=[0, 255, 255], Grayscale=127),\n",
       " ColorMapping(Class='Vegatation', RGB=[127, 255, 0], Grayscale=50),\n",
       " ColorMapping(Class='Crack', RGB=[255, 255, 255], Grayscale=159),\n",
       " ColorMapping(Class='Graffiti', RGB=[128, 0, 128], Grayscale=90)]"
      ]
     },
     "execution_count": 8,
     "metadata": {},
     "output_type": "execute_result"
    }
   ],
   "source": [
    "# using colormapping from part 2\n",
    "# colorMapping, colors, vals\n",
    "# Create Color Mapping Part 2\n",
    "colorMapping = createColorMapping(colorMapping_path)\n",
    "colorMapping"
   ]
  },
  {
   "cell_type": "code",
   "execution_count": 9,
   "metadata": {},
   "outputs": [],
   "source": [
    "def map_grayscale2RGB(img, colors, vals, invalid_val=0, CHANNELS = 3):\n",
    "    img = cv2.cvtColor(img, cv2.COLOR_BGR2GRAY)\n",
    "    img1D = img.reshape(-1)\n",
    "    sidx = vals.argsort()\n",
    "    idx0 = np.searchsorted(vals, img1D, sorter=sidx)\n",
    "    idx0[idx0==len(sidx)] = 0\n",
    "    mapped_idx = sidx[idx0]\n",
    "    valid = vals[mapped_idx] == img1D\n",
    "    red = np.where(valid, colors[:,0][mapped_idx], invalid_val).reshape(img.shape[0],img.shape[1])\n",
    "    green = np.where(valid, colors[:,1][mapped_idx], invalid_val).reshape(img.shape[0],img.shape[1])\n",
    "    blue = np.where(valid, colors[:,2][mapped_idx], invalid_val).reshape(img.shape[0],img.shape[1])\n",
    "    # Opencv saves in bgr\n",
    "    return np.dstack((blue,green,red))"
   ]
  },
  {
   "cell_type": "code",
   "execution_count": 10,
   "metadata": {},
   "outputs": [
    {
     "data": {
      "text/plain": [
       "'# test with one img\\norigin_label_1_path = osp.join(labelsGrayscale_path, list_labels_grayscale_without_postfix[0] + \".png\")\\ntarget_label_1_path = osp.join(labelsRGB_path, list_labels_grayscale_without_postfix[0] + \".png\")\\nimg = cv2.imread(origin_label_1_path)\\n#grey = np.array([[159,  90,  25,  50],[0,  50, 120,   0]])\\nrgb = map_grayscale2RGB(img, colors, vals)\\ncv2.imwrite(target_label_1_path, rgb)'"
      ]
     },
     "execution_count": 10,
     "metadata": {},
     "output_type": "execute_result"
    }
   ],
   "source": [
    "\"\"\"# test with one img\n",
    "origin_label_1_path = osp.join(labelsGrayscale_path, list_labels_grayscale_without_postfix[0] + \".png\")\n",
    "target_label_1_path = osp.join(labelsRGB_path, list_labels_grayscale_without_postfix[0] + \".png\")\n",
    "img = cv2.imread(origin_label_1_path)\n",
    "#grey = np.array([[159,  90,  25,  50],[0,  50, 120,   0]])\n",
    "rgb = map_grayscale2RGB(img, colors, vals)\n",
    "cv2.imwrite(target_label_1_path, rgb)\"\"\""
   ]
  },
  {
   "cell_type": "code",
   "execution_count": 12,
   "metadata": {},
   "outputs": [],
   "source": [
    "colors = []\n",
    "vals = []\n",
    "for element in colorMapping:\n",
    "    colors.append(element.RGB)\n",
    "    vals.append(element.Grayscale)\n",
    "    \n",
    "colors = np.array(colors)\n",
    "vals = np.array(vals)"
   ]
  },
  {
   "cell_type": "code",
   "execution_count": 13,
   "metadata": {},
   "outputs": [
    {
     "name": "stdout",
     "output_type": "stream",
     "text": [
      "........................................................................................................................................................."
     ]
    }
   ],
   "source": [
    "for name_img in list_labels_grayscale_without_postfix:\n",
    "    print(\".\", end = '')\n",
    "    origin_label_path = osp.join(labelsGrayscale_path, name_img + \".png\")\n",
    "    target_label_path = osp.join(labelsRGB_path, name_img + \".png\")\n",
    "    image = cv2.imread(origin_label_path)\n",
    "    gray = map_grayscale2RGB(image, colors, vals)\n",
    "    cv2.imwrite(target_label_path, gray)"
   ]
  },
  {
   "cell_type": "code",
   "execution_count": null,
   "metadata": {},
   "outputs": [],
   "source": []
  }
 ],
 "metadata": {
  "kernelspec": {
   "display_name": "Python 3",
   "language": "python",
   "name": "python3"
  },
  "language_info": {
   "codemirror_mode": {
    "name": "ipython",
    "version": 3
   },
   "file_extension": ".py",
   "mimetype": "text/x-python",
   "name": "python",
   "nbconvert_exporter": "python",
   "pygments_lexer": "ipython3",
   "version": "3.6.9"
  }
 },
 "nbformat": 4,
 "nbformat_minor": 2
}
