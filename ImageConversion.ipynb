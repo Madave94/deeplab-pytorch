{
 "cells": [
  {
   "cell_type": "markdown",
   "metadata": {},
   "source": [
    "## 1. Transform Grayscale image to specific RGB mappings"
   ]
  },
  {
   "cell_type": "code",
   "execution_count": 1,
   "metadata": {},
   "outputs": [],
   "source": [
    "import os.path as osp\n",
    "import os\n",
    "import errno\n",
    "import cv2\n",
    "from matplotlib import pyplot as plt\n",
    "import numpy as np\n",
    "import json\n",
    "from collections import namedtuple"
   ]
  },
  {
   "cell_type": "code",
   "execution_count": 2,
   "metadata": {},
   "outputs": [
    {
     "name": "stdout",
     "output_type": "stream",
     "text": [
      "Found grayscale label folder.\n",
      "Found RGB label folder.\n",
      "Found color mapping file.\n"
     ]
    }
   ],
   "source": [
    "root_path = \"S2DSdevkit\"\n",
    "part_path = \"part2\"\n",
    "images_path = \"images\"\n",
    "\n",
    "def createValidPathnames(root_path, part_path, images_path):\n",
    "    \"\"\"\n",
    "        returns a tuple containing the three needed pathnames\n",
    "        contains a check if the file is there\n",
    "    \"\"\"\n",
    "    labelsGrayscale_path = osp.join(root_path, part_path, \"labelsGrayscale\")\n",
    "    if os.path.isdir(labelsGrayscale_path):\n",
    "        print(\"Found grayscale label folder.\")\n",
    "    else:\n",
    "        raise FileNotFoundError(errno.ENOENT, os.strerror(errno.ENOENT), labelsGrayscale_path)\n",
    "\n",
    "    # labels RGB path\n",
    "    labelsRGB_path = osp.join(root_path, part_path, \"labelsRGB\")\n",
    "    if os.path.isdir(labelsRGB_path):\n",
    "        print(\"Found RGB label folder.\")\n",
    "    else:\n",
    "        raise FileNotFoundError(errno.ENOENT, os.strerror(errno.ENOENT), labelsRGB_path)\n",
    "\n",
    "    # color mapping path\n",
    "    colorMapping_path = osp.join(root_path, part_path, \"ColorMapping.json\" )\n",
    "    if os.path.isdir(labelsGrayscale_path):\n",
    "        print(\"Found color mapping file.\")\n",
    "    else:\n",
    "        raise FileNotFoundError(errno.ENOENT, os.strerror(errno.ENOENT), colorMapping_path)\n",
    "    return labelsGrayscale_path, labelsRGB_path, colorMapping_path\n",
    "\n",
    "labelsGrayscale_path, labelsRGB_path, colorMapping_path = createValidPathnames(root_path, part_path, images_path)"
   ]
  },
  {
   "cell_type": "code",
   "execution_count": 4,
   "metadata": {},
   "outputs": [
    {
     "data": {
      "text/plain": [
       "[ColorMapping(Class='Spalling', RGB=[255, 0, 0], Grayscale=25),\n",
       " ColorMapping(Class='Rust Stain', RGB=[165, 42, 42], Grayscale=120),\n",
       " ColorMapping(Class='Discoloration', RGB=[0, 255, 255], Grayscale=127),\n",
       " ColorMapping(Class='Vegatation', RGB=[127, 255, 0], Grayscale=50),\n",
       " ColorMapping(Class='Crack', RGB=[255, 255, 255], Grayscale=159),\n",
       " ColorMapping(Class='Graffiti', RGB=[128, 0, 128], Grayscale=90)]"
      ]
     },
     "execution_count": 4,
     "metadata": {},
     "output_type": "execute_result"
    }
   ],
   "source": [
    "def createColorMapping(json_path):\n",
    "    \"\"\"\n",
    "        reads a json file and creates a list of object containing the transformation details\n",
    "        eg.\n",
    "        colorMapping = [ColorMapping(Class='Spalling', RGB=[255, 0, 0], Grayscale=25),\n",
    "         ColorMapping(Class='Rust Stain', RGB=[165, 42, 42], Grayscale=120), ... ]\n",
    "         Access the element:\n",
    "         colorMapping[0].RGB -> [255,0,0]\n",
    "    \"\"\"\n",
    "    colorMapping = []\n",
    "    with open(colorMapping_path) as json_file:\n",
    "        json_file = json_file.read()\n",
    "        json_file = json_file.split(\";\")\n",
    "        for data in json_file:\n",
    "            colorMapping.append(json.loads(data, object_hook=lambda d: namedtuple('ColorMapping', d.keys())(*d.values())))\n",
    "    return colorMapping\n",
    "\n",
    "colorMapping = createColorMapping(colorMapping_path)\n",
    "colorMapping"
   ]
  },
  {
   "cell_type": "code",
   "execution_count": 5,
   "metadata": {},
   "outputs": [
    {
     "data": {
      "text/plain": [
       "['01 (405)', 'IMG_0798', 'IMG_7393', '02', '01 (45)']"
      ]
     },
     "execution_count": 5,
     "metadata": {},
     "output_type": "execute_result"
    }
   ],
   "source": [
    "# create list of files in the folder\n",
    "list_paths = os.listdir(labelsRGB_path)\n",
    "# get only images ending on .jpg\n",
    "list_labels_rgb_with_postfix = list((filter(lambda k: '.png' in k, list_paths)))\n",
    "# remove the file ending .jpg\n",
    "list_labels_rgb_without_postfix = list((map(lambda k: osp.splitext(k)[0], list_labels_rgb_with_postfix)))\n",
    "# show first five elements\n",
    "list_labels_rgb_without_postfix[:5]"
   ]
  },
  {
   "cell_type": "code",
   "execution_count": null,
   "metadata": {},
   "outputs": [],
   "source": [
    "\"\"\"\n",
    "# test with one img\n",
    "origin_label_1_path = osp.join(labelsRGB_path, list_labels_rgb_without_postfix[0] + \".png\")\n",
    "target_label_1_path = osp.join(labelsGrayscale_path, list_labels_rgb_without_postfix[0] + \".png\")\n",
    "img = cv2.imread(origin_label_1_path)\n",
    "\"\"\""
   ]
  },
  {
   "cell_type": "code",
   "execution_count": 8,
   "metadata": {},
   "outputs": [],
   "source": [
    "def RGBtoGray(RGBimg, colorMapping):\n",
    "    RGBimg = cv2.cvtColor(RGBimg, cv2.COLOR_BGR2RGB)\n",
    "    row = RGBimg.shape[0]\n",
    "    col = RGBimg.shape[1]\n",
    "    GRAYimg = np.zeros((row, col))\n",
    "    for x in range(0,row):\n",
    "        for y in range(0,col):\n",
    "            pixel = RGBimg[x,y,:]\n",
    "            for cm in colorMapping:\n",
    "                if np.array_equal(pixel, np.array(cm.RGB)):\n",
    "                    GRAYimg[x,y] = cm.Grayscale    \n",
    "    return GRAYimg    "
   ]
  },
  {
   "cell_type": "code",
   "execution_count": 11,
   "metadata": {},
   "outputs": [
    {
     "name": "stdout",
     "output_type": "stream",
     "text": [
      "Processing image 01 (405)...\n",
      " ... finished!Processing image IMG_0798...\n"
     ]
    },
    {
     "ename": "KeyboardInterrupt",
     "evalue": "",
     "output_type": "error",
     "traceback": [
      "\u001b[0;31m--------------------------------------------------------------------------\u001b[0m",
      "\u001b[0;31mKeyboardInterrupt\u001b[0m                        Traceback (most recent call last)",
      "\u001b[0;32m<ipython-input-11-a21e2e6dc2ba>\u001b[0m in \u001b[0;36m<module>\u001b[0;34m\u001b[0m\n\u001b[1;32m      4\u001b[0m     \u001b[0mtarget_label_path\u001b[0m \u001b[0;34m=\u001b[0m \u001b[0mosp\u001b[0m\u001b[0;34m.\u001b[0m\u001b[0mjoin\u001b[0m\u001b[0;34m(\u001b[0m\u001b[0mlabelsGrayscale_path\u001b[0m\u001b[0;34m,\u001b[0m \u001b[0mname_img\u001b[0m \u001b[0;34m+\u001b[0m \u001b[0;34m\".png\"\u001b[0m\u001b[0;34m)\u001b[0m\u001b[0;34m\u001b[0m\u001b[0;34m\u001b[0m\u001b[0m\n\u001b[1;32m      5\u001b[0m     \u001b[0mimage\u001b[0m \u001b[0;34m=\u001b[0m \u001b[0mcv2\u001b[0m\u001b[0;34m.\u001b[0m\u001b[0mimread\u001b[0m\u001b[0;34m(\u001b[0m\u001b[0morigin_label_path\u001b[0m\u001b[0;34m)\u001b[0m\u001b[0;34m\u001b[0m\u001b[0;34m\u001b[0m\u001b[0m\n\u001b[0;32m----> 6\u001b[0;31m     \u001b[0mgray\u001b[0m \u001b[0;34m=\u001b[0m \u001b[0mRGBtoGray\u001b[0m\u001b[0;34m(\u001b[0m\u001b[0mimage\u001b[0m\u001b[0;34m,\u001b[0m \u001b[0mcolorMapping\u001b[0m\u001b[0;34m)\u001b[0m\u001b[0;34m\u001b[0m\u001b[0;34m\u001b[0m\u001b[0m\n\u001b[0m\u001b[1;32m      7\u001b[0m     \u001b[0mcv2\u001b[0m\u001b[0;34m.\u001b[0m\u001b[0mimwrite\u001b[0m\u001b[0;34m(\u001b[0m\u001b[0mtarget_label_path\u001b[0m\u001b[0;34m,\u001b[0m \u001b[0mgray\u001b[0m\u001b[0;34m)\u001b[0m\u001b[0;34m\u001b[0m\u001b[0;34m\u001b[0m\u001b[0m\n\u001b[1;32m      8\u001b[0m     \u001b[0mprint\u001b[0m\u001b[0;34m(\u001b[0m\u001b[0;34m\" ... finished!\"\u001b[0m\u001b[0;34m,\u001b[0m \u001b[0mend\u001b[0m \u001b[0;34m=\u001b[0m \u001b[0;34m''\u001b[0m\u001b[0;34m)\u001b[0m\u001b[0;34m\u001b[0m\u001b[0;34m\u001b[0m\u001b[0m\n",
      "\u001b[0;32m<ipython-input-8-a93bfedaa69c>\u001b[0m in \u001b[0;36mRGBtoGray\u001b[0;34m(RGBimg, colorMapping)\u001b[0m\n\u001b[1;32m      8\u001b[0m             \u001b[0mpixel\u001b[0m \u001b[0;34m=\u001b[0m \u001b[0mRGBimg\u001b[0m\u001b[0;34m[\u001b[0m\u001b[0mx\u001b[0m\u001b[0;34m,\u001b[0m\u001b[0my\u001b[0m\u001b[0;34m,\u001b[0m\u001b[0;34m:\u001b[0m\u001b[0;34m]\u001b[0m\u001b[0;34m\u001b[0m\u001b[0;34m\u001b[0m\u001b[0m\n\u001b[1;32m      9\u001b[0m             \u001b[0;32mfor\u001b[0m \u001b[0mcm\u001b[0m \u001b[0;32min\u001b[0m \u001b[0mcolorMapping\u001b[0m\u001b[0;34m:\u001b[0m\u001b[0;34m\u001b[0m\u001b[0;34m\u001b[0m\u001b[0m\n\u001b[0;32m---> 10\u001b[0;31m                 \u001b[0;32mif\u001b[0m \u001b[0mnp\u001b[0m\u001b[0;34m.\u001b[0m\u001b[0marray_equal\u001b[0m\u001b[0;34m(\u001b[0m\u001b[0mpixel\u001b[0m\u001b[0;34m,\u001b[0m \u001b[0mnp\u001b[0m\u001b[0;34m.\u001b[0m\u001b[0marray\u001b[0m\u001b[0;34m(\u001b[0m\u001b[0mcm\u001b[0m\u001b[0;34m.\u001b[0m\u001b[0mRGB\u001b[0m\u001b[0;34m)\u001b[0m\u001b[0;34m)\u001b[0m\u001b[0;34m:\u001b[0m\u001b[0;34m\u001b[0m\u001b[0;34m\u001b[0m\u001b[0m\n\u001b[0m\u001b[1;32m     11\u001b[0m                     \u001b[0mGRAYimg\u001b[0m\u001b[0;34m[\u001b[0m\u001b[0mx\u001b[0m\u001b[0;34m,\u001b[0m\u001b[0my\u001b[0m\u001b[0;34m]\u001b[0m \u001b[0;34m=\u001b[0m \u001b[0mcm\u001b[0m\u001b[0;34m.\u001b[0m\u001b[0mGrayscale\u001b[0m\u001b[0;34m\u001b[0m\u001b[0;34m\u001b[0m\u001b[0m\n\u001b[1;32m     12\u001b[0m     \u001b[0;32mreturn\u001b[0m \u001b[0mGRAYimg\u001b[0m\u001b[0;34m\u001b[0m\u001b[0;34m\u001b[0m\u001b[0m\n",
      "\u001b[0;32m<__array_function__ internals>\u001b[0m in \u001b[0;36marray_equal\u001b[0;34m(*args, **kwargs)\u001b[0m\n",
      "\u001b[0;32m~/.local/lib/python3.6/site-packages/numpy/core/numeric.py\u001b[0m in \u001b[0;36marray_equal\u001b[0;34m(a1, a2)\u001b[0m\n\u001b[1;32m   2325\u001b[0m     \u001b[0;32mif\u001b[0m \u001b[0ma1\u001b[0m\u001b[0;34m.\u001b[0m\u001b[0mshape\u001b[0m \u001b[0;34m!=\u001b[0m \u001b[0ma2\u001b[0m\u001b[0;34m.\u001b[0m\u001b[0mshape\u001b[0m\u001b[0;34m:\u001b[0m\u001b[0;34m\u001b[0m\u001b[0;34m\u001b[0m\u001b[0m\n\u001b[1;32m   2326\u001b[0m         \u001b[0;32mreturn\u001b[0m \u001b[0;32mFalse\u001b[0m\u001b[0;34m\u001b[0m\u001b[0;34m\u001b[0m\u001b[0m\n\u001b[0;32m-> 2327\u001b[0;31m     \u001b[0;32mreturn\u001b[0m \u001b[0mbool\u001b[0m\u001b[0;34m(\u001b[0m\u001b[0masarray\u001b[0m\u001b[0;34m(\u001b[0m\u001b[0ma1\u001b[0m \u001b[0;34m==\u001b[0m \u001b[0ma2\u001b[0m\u001b[0;34m)\u001b[0m\u001b[0;34m.\u001b[0m\u001b[0mall\u001b[0m\u001b[0;34m(\u001b[0m\u001b[0;34m)\u001b[0m\u001b[0;34m)\u001b[0m\u001b[0;34m\u001b[0m\u001b[0;34m\u001b[0m\u001b[0m\n\u001b[0m\u001b[1;32m   2328\u001b[0m \u001b[0;34m\u001b[0m\u001b[0m\n\u001b[1;32m   2329\u001b[0m \u001b[0;34m\u001b[0m\u001b[0m\n",
      "\u001b[0;32m~/.local/lib/python3.6/site-packages/numpy/core/_methods.py\u001b[0m in \u001b[0;36m_all\u001b[0;34m(a, axis, dtype, out, keepdims)\u001b[0m\n\u001b[1;32m     46\u001b[0m \u001b[0;34m\u001b[0m\u001b[0m\n\u001b[1;32m     47\u001b[0m \u001b[0;32mdef\u001b[0m \u001b[0m_all\u001b[0m\u001b[0;34m(\u001b[0m\u001b[0ma\u001b[0m\u001b[0;34m,\u001b[0m \u001b[0maxis\u001b[0m\u001b[0;34m=\u001b[0m\u001b[0;32mNone\u001b[0m\u001b[0;34m,\u001b[0m \u001b[0mdtype\u001b[0m\u001b[0;34m=\u001b[0m\u001b[0;32mNone\u001b[0m\u001b[0;34m,\u001b[0m \u001b[0mout\u001b[0m\u001b[0;34m=\u001b[0m\u001b[0;32mNone\u001b[0m\u001b[0;34m,\u001b[0m \u001b[0mkeepdims\u001b[0m\u001b[0;34m=\u001b[0m\u001b[0;32mFalse\u001b[0m\u001b[0;34m)\u001b[0m\u001b[0;34m:\u001b[0m\u001b[0;34m\u001b[0m\u001b[0;34m\u001b[0m\u001b[0m\n\u001b[0;32m---> 48\u001b[0;31m     \u001b[0;32mreturn\u001b[0m \u001b[0mumr_all\u001b[0m\u001b[0;34m(\u001b[0m\u001b[0ma\u001b[0m\u001b[0;34m,\u001b[0m \u001b[0maxis\u001b[0m\u001b[0;34m,\u001b[0m \u001b[0mdtype\u001b[0m\u001b[0;34m,\u001b[0m \u001b[0mout\u001b[0m\u001b[0;34m,\u001b[0m \u001b[0mkeepdims\u001b[0m\u001b[0;34m)\u001b[0m\u001b[0;34m\u001b[0m\u001b[0;34m\u001b[0m\u001b[0m\n\u001b[0m\u001b[1;32m     49\u001b[0m \u001b[0;34m\u001b[0m\u001b[0m\n\u001b[1;32m     50\u001b[0m \u001b[0;32mdef\u001b[0m \u001b[0m_count_reduce_items\u001b[0m\u001b[0;34m(\u001b[0m\u001b[0marr\u001b[0m\u001b[0;34m,\u001b[0m \u001b[0maxis\u001b[0m\u001b[0;34m)\u001b[0m\u001b[0;34m:\u001b[0m\u001b[0;34m\u001b[0m\u001b[0;34m\u001b[0m\u001b[0m\n",
      "\u001b[0;31mKeyboardInterrupt\u001b[0m: "
     ]
    }
   ],
   "source": [
    "for name_img in list_labels_rgb_without_postfix:\n",
    "    print(\"Processing image \" + name_img + \"...\", end = '')\n",
    "    origin_label_path = osp.join(labelsRGB_path, name_img + \".png\")\n",
    "    target_label_path = osp.join(labelsGrayscale_path, name_img + \".png\")\n",
    "    image = cv2.imread(origin_label_path)\n",
    "    gray = RGBtoGray(image, colorMapping)\n",
    "    cv2.imwrite(target_label_path, gray)\n",
    "    print(\" ... finished!\")"
   ]
  },
  {
   "cell_type": "code",
   "execution_count": null,
   "metadata": {},
   "outputs": [],
   "source": []
  }
 ],
 "metadata": {
  "kernelspec": {
   "display_name": "deeplab-pytorch",
   "language": "python",
   "name": "deeplab-pytorch"
  },
  "language_info": {
   "codemirror_mode": {
    "name": "ipython",
    "version": 3
   },
   "file_extension": ".py",
   "mimetype": "text/x-python",
   "name": "python",
   "nbconvert_exporter": "python",
   "pygments_lexer": "ipython3",
   "version": "3.6.10"
  }
 },
 "nbformat": 4,
 "nbformat_minor": 2
}
